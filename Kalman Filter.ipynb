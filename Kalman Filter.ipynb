{
 "cells": [
  {
   "cell_type": "code",
   "execution_count": 6,
   "metadata": {},
   "outputs": [],
   "source": [
    "import pandas as pd\n",
    "import numpy as np\n",
    "from matplotlib import pyplot as plt\n",
    "from mpl_toolkits import mplot3d\n",
    "from numpy.linalg import inv\n",
    "import filterpy.kalman"
   ]
  },
  {
   "cell_type": "code",
   "execution_count": 7,
   "metadata": {},
   "outputs": [],
   "source": [
    "import os\n",
    "os.getcwd()\n",
    "# This part is used to go to the directory of the video we are smoothing\n",
    "os.chdir(\"C:\\\\Users\\\\18587\\\\Desktop\\\\Book Reading Analysis Project\\\\2D Data\\\\exports\\\\000\")"
   ]
  },
  {
   "cell_type": "code",
   "execution_count": 8,
   "metadata": {
    "tags": []
   },
   "outputs": [
    {
     "output_type": "stream",
     "name": "stdout",
     "text": "1.208463430404663\n110.12842321395874\n"
    }
   ],
   "source": [
    "import time\n",
    "from numpy import ma\n",
    "# We are smoothing the video by processing the gaze data. Name is the file that holds the gaze data in a csv file\n",
    "name='gaze_positions'\n",
    "data = pd.read_csv(name+'.csv')\n",
    "xy = data[[\"norm_pos_x\", \"norm_pos_y\"]].values\n",
    "xy=ma.asarray(xy)\n",
    "from pykalman import KalmanFilter\n",
    "kf = KalmanFilter(initial_state_mean=[1,1.5],n_dim_obs=2)\n",
    "\n",
    "start=0\n",
    "stop=len(xy)\n",
    "t1=time.time()\n",
    "for i in range(1,stop):\n",
    "    if ((xy[i,0]>1) or (xy[i,0]<0)or (xy[i,1]>1) or (xy[i,1]<0) or(abs(xy[i,0]-xy[i-1,0])>50/1280)or (abs(xy[i,1]-xy[i-1,1])>30/720)):\n",
    "        xy[i,0]=ma.masked\n",
    "        xy[i,1]=ma.masked\n",
    "        a=0\n",
    "\n",
    "t2=time.time()\n",
    "print(t2-t1)\n",
    "        \n",
    "#output = kf.em(xy[start:stop]).smooth(xy[start:stop])\n",
    "kf = kf.em(xy[start:stop], n_iter=5)\n",
    "(filtered_state_means, filtered_state_covariances) = kf.filter(xy[start:stop])\n",
    "(xy_new, smoothed_state_covariances) = kf.smooth(xy[start:stop])\n",
    "t2=time.time()\n",
    "print(t2-t1)\n",
    "x_pred = xy_new[:,0]\n",
    "y_pred = xy_new[:,1]\n"
   ]
  },
  {
   "cell_type": "code",
   "execution_count": 9,
   "metadata": {
    "tags": []
   },
   "outputs": [
    {
     "output_type": "stream",
     "name": "stdout",
     "text": "<class 'numpy.ndarray'>\n"
    }
   ],
   "source": [
    "import csv\n",
    "\n",
    "t=data[\"gaze_timestamp\"]\n",
    "w_ind=np.asarray(list(map(int,data['world_index'])))\n",
    "print(type(w_ind))\n",
    "conf=data[\"confidence\"]\n",
    "with open(name+'_filtered.csv', 'w') as f:\n",
    "    f.write('timestamp,index,confidence,norm_pos_x,norm_pos_y\\n')\n",
    "    np.savetxt(f, np.column_stack((t, w_ind,conf,xy_new)), delimiter=\",\", fmt='%s')"
   ]
  },
  {
   "cell_type": "code",
   "execution_count": 10,
   "metadata": {
    "scrolled": true
   },
   "outputs": [],
   "source": [
    "# %matplotlib notebook\n",
    "# start=4000\n",
    "# stop=6000\n",
    "# fig = plt.figure()\n",
    "# ax = plt.axes(projection='3d')\n",
    "# ax.plot3D(data[\"gaze_timestamp\"][start:stop],data[\"norm_pos_x\"][start:stop], data[\"norm_pos_y\"][start:stop])\n",
    "# ax.set_zlim(0,1)\n",
    "# ax.set_xlabel('timestamp')\n",
    "# ax.set_ylabel('x')\n",
    "# ax.set_zlabel('y');\n",
    "# ax.set_title(\"Observed Values\")\n",
    "# ax.set_zlim(0,1)\n",
    "# ax.set_ylim(0,1)\n",
    "# plt.show()\n",
    "\n",
    "# fig = plt.figure()\n",
    "# ax = plt.axes(projection='3d')\n",
    "# ax.plot3D(data[\"gaze_timestamp\"][start:stop],x_pred[start:stop],y_pred[start:stop])\n",
    "# ax.set_zlim(0,1)\n",
    "# ax.set_ylim(0,1)\n",
    "\n",
    "# ax.set_xlabel('timestamp')\n",
    "# ax.set_ylabel('x')\n",
    "# ax.set_zlabel('y');\n",
    "# ax.set_title(\"After Kalman Smoothing\")\n",
    "# plt.show()"
   ]
  }
 ],
 "metadata": {
  "kernelspec": {
   "display_name": "Python 3",
   "language": "python",
   "name": "python3"
  },
  "language_info": {
   "codemirror_mode": {
    "name": "ipython",
    "version": 3
   },
   "file_extension": ".py",
   "mimetype": "text/x-python",
   "name": "python",
   "nbconvert_exporter": "python",
   "pygments_lexer": "ipython3",
   "version": "3.7.4-final"
  }
 },
 "nbformat": 4,
 "nbformat_minor": 2
}